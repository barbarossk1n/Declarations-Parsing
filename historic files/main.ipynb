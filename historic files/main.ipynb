{
 "cells": [
  {
   "cell_type": "code",
   "execution_count": null,
   "metadata": {},
   "outputs": [],
   "source": [
    "from pdf_extracting import *\n",
    "\n",
    "script_directory = os.getcwd()"
   ]
  },
  {
   "cell_type": "code",
   "execution_count": null,
   "metadata": {},
   "outputs": [],
   "source": [
    "sochi_comfort = 'https://xn--80az8a.xn--d1aqf.xn--p1ai/%D1%81%D0%B5%D1%80%D0%B2%D0%B8%D1%81%D1%8B/%D0%BA%D0%B0%D1%82%D0%B0%D0%BB%D0%BE%D0%B3-%D0%BD%D0%BE%D0%B2%D0%BE%D1%81%D1%82%D1%80%D0%BE%D0%B5%D0%BA/%D1%81%D0%BF%D0%B8%D1%81%D0%BE%D0%BA-%D0%BE%D0%B1%D1%8A%D0%B5%D0%BA%D1%82%D0%BE%D0%B2/%D1%81%D0%BF%D0%B8%D1%81%D0%BE%D0%BA?place=0-44&objClass=2'\n",
    "\n",
    "# pars = Parsing(script_directory)\n",
    "# pars.projects_links(url = sochi_comfort, attempt = 1, theme = 'Sochi_comfort')"
   ]
  },
  {
   "cell_type": "code",
   "execution_count": null,
   "metadata": {},
   "outputs": [],
   "source": [
    "# =======================================================================\n",
    "\n",
    "def classic_search(search_url, naming, check_new = False):\n",
    "    pars = Parsing(script_directory)\n",
    "    \n",
    "    pars.projects_links(url = search_url, theme = naming)\n",
    "    pars.get_declarations(sel_name = naming, check_new = check_new)\n",
    "    \n",
    "# =======================================================================\n",
    "\n",
    "def unique_search(search_url, check_new = False):\n",
    "    pars = Parsing(script_directory)\n",
    "    pars.get_declarations(url_prjct = search_url, check_new = check_new)"
   ]
  },
  {
   "cell_type": "code",
   "execution_count": null,
   "metadata": {},
   "outputs": [],
   "source": [
    "classic_search(sochi_comfort, \"Sochi_comfort\")"
   ]
  },
  {
   "cell_type": "code",
   "execution_count": null,
   "metadata": {},
   "outputs": [],
   "source": [
    "lnk = 'https://xn--80az8a.xn--d1aqf.xn--p1ai/%D1%81%D0%B5%D1%80%D0%B2%D0%B8%D1%81%D1%8B/%D0%BA%D0%B0%D1%82%D0%B0%D0%BB%D0%BE%D0%B3-%D0%BD%D0%BE%D0%B2%D0%BE%D1%81%D1%82%D1%80%D0%BE%D0%B5%D0%BA/%D0%BE%D0%B1%D1%8A%D0%B5%D0%BA%D1%82/'\n",
    "Olya_zapros = [\n",
    "                '57855', \n",
    "                '47949',\n",
    "                '46882',\n",
    "                '58153',\n",
    "                '54340',\n",
    "                '55272',\n",
    "                '8233',\n",
    "                '56495',\n",
    "                '55125',\n",
    "                '54994',\n",
    "                '46904',\n",
    "                '49613',\n",
    "                '56177',\n",
    "                '52141',\n",
    "                '34231',\n",
    "                '51028',\n",
    "                '55499',\n",
    "                '55561',\n",
    "                '55661'\n",
    "                ]\n",
    "\n",
    "Dima_zapros_old = [\n",
    "                '52580',\n",
    "                '31119',\n",
    "                '30667',\n",
    "                '51490',\n",
    "                '32269',\n",
    "                '56696',\n",
    "                '54445',\n",
    "                '38777',\n",
    "                '40805',\n",
    "                '54074',\n",
    "                '37040',\n",
    "                '48714',\n",
    "                '47658',\n",
    "                '55764',\n",
    "                '33547',\n",
    "                '33546',\n",
    "                '57456',\n",
    "                '31733',\n",
    "                '32618',\n",
    "                '46575',\n",
    "                '49087'\n",
    "                ]\n",
    "\n",
    "Dima_zapros_new = [\n",
    "                    '54241',\n",
    "                    '53066',\n",
    "                    '49925',\n",
    "                    '49920',\n",
    "                    '48535',\n",
    "                    '49932',\n",
    "                    '55205',\n",
    "                    '44969',\n",
    "                    '47579',\n",
    "                    '48466',\n",
    "                    '45318',\n",
    "                    '45316',\n",
    "                    '56071',\n",
    "                    '54505',\n",
    "                    '54541'\n",
    "                    ]\n",
    "\n",
    "Sonya_zapros = [\n",
    "                #'34083',\n",
    "                #'36834',\n",
    "                #'43820',\n",
    "                #'36567',\n",
    "                #'50268',\n",
    "                #'43199',\n",
    "                #'37004',\n",
    "                #'39827',\n",
    "                #'43738',\n",
    "                #'55387',\n",
    "                '37480'\n",
    "                ]\n",
    "\n",
    "for prj in Sonya_zapros:\n",
    "    name_new = lnk + str(prj)\n",
    "    unique_search(name_new, check_new = True)\n",
    "    \n",
    "    extr = PdfExtracting(script_directory)\n",
    "    extr.project_work(str(prj))\n",
    "    extr.excel_creation(prj, basic_dummy=False)"
   ]
  },
  {
   "cell_type": "code",
   "execution_count": null,
   "metadata": {},
   "outputs": [],
   "source": [
    "for prj in Olya_zapros:\n",
    "    extr = PdfExtracting(script_directory)\n",
    "    extr.excel_creation(prj, basic_dummy=False)"
   ]
  },
  {
   "cell_type": "code",
   "execution_count": null,
   "metadata": {},
   "outputs": [],
   "source": [
    "os.chdir('C:\\\\Users\\\\pront\\\\Desktop\\\\WORK\\\\new_declaration\\\\projects\\\\json')\n",
    "for prj in os.listdir():\n",
    "    if prj not in Olya_zapros:\n",
    "        print(prj)"
   ]
  }
 ],
 "metadata": {
  "kernelspec": {
   "display_name": "Python 3",
   "language": "python",
   "name": "python3"
  },
  "language_info": {
   "codemirror_mode": {
    "name": "ipython",
    "version": 3
   },
   "file_extension": ".py",
   "mimetype": "text/x-python",
   "name": "python",
   "nbconvert_exporter": "python",
   "pygments_lexer": "ipython3",
   "version": "3.11.8"
  }
 },
 "nbformat": 4,
 "nbformat_minor": 2
}
